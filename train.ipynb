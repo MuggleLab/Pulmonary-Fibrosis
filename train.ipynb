{
 "cells": [
  {
   "cell_type": "code",
   "execution_count": null,
   "metadata": {
    "collapsed": true
   },
   "outputs": [],
   "source": [
    "import os\n",
    "import numpy as np\n",
    "import pandas as pd\n",
    "import tensorflow as tf\n"
   ]
  },
  {
   "cell_type": "code",
   "execution_count": null,
   "outputs": [],
   "source": [
    "# Init data path\n",
    "root_dir = '~/Data/OSIC'\n",
    "train_csv_path = os.path.join(root_dir, 'train.csv')\n",
    "test_csv_path = os.path.join(root_dir, 'test.csv')\n",
    "img_dir = os.path.join(root_dir, 'preprocessing_data')\n"
   ],
   "metadata": {
    "collapsed": false,
    "pycharm": {
     "name": "#%%\n"
    }
   }
  },
  {
   "cell_type": "code",
   "execution_count": null,
   "outputs": [],
   "source": [
    "# Read CSV\n",
    "train_csv = pd.read_csv(train_csv_path)\n",
    "test_csv = pd.read_csv(test_csv_path)\n",
    "train_csv.head()"
   ],
   "metadata": {
    "collapsed": false,
    "pycharm": {
     "name": "#%%\n"
    }
   }
  },
  {
   "cell_type": "code",
   "execution_count": null,
   "outputs": [],
   "source": [
    "# Preprocessing\n"
   ],
   "metadata": {
    "collapsed": false,
    "pycharm": {
     "name": "#%%\n"
    }
   }
  },
  {
   "cell_type": "code",
   "execution_count": null,
   "outputs": [],
   "source": [
    "# Dataset\n",
    "class Dataset:\n",
    "    label_col_name = 'FVC'\n",
    "    root_dir = '/Users/younghun/Data/OSIC/'\n",
    "\n",
    "    # root_dir = '~/Data/OSIC'\n",
    "\n",
    "    def __init__(self, data_list, epoch=1, batch_size=10):\n",
    "        # init labels\n",
    "        label_list = data_list[self.label_col_name].to_numpy()\n",
    "        self.patient_list = data_list['Patient'].to_numpy()\n",
    "\n",
    "        data_list.drop([self.label_col_name, 'Patient'], axis=1, inplace=True)\n",
    "        data_list = pd.get_dummies(data_list)\n",
    "\n",
    "        # init dataset\n",
    "        self.dataset = tf.data.Dataset.from_tensor_slices((data_list, label_list, np.arange(len(self.patient_list))))\n",
    "        self.dataset = self.dataset.map(lambda data, label, index: tf.py_function(self.read_img, [data, label, index], [tf.float64, tf.float64, tf.int64]))\n",
    "        self.dataset = self.dataset.repeat(epoch)\n",
    "        # self.dataset = self.dataset.shuffle(buffer_size=(int(len(data_list) * 0.4) + 3 * batch_size))\n",
    "        self.dataset = self.dataset.batch(batch_size, drop_remainder=False)\n",
    "\n",
    "    def __iter__(self):\n",
    "        return self.dataset.__iter__()\n",
    "\n",
    "    def read_img(self, data, label, index: tf.Tensor):\n",
    "        img_path = os.path.join(self.root_dir, 'preprocessing_data', f'{self.patient_list[index]}.npy')\n",
    "        img = np.load(img_path)\n",
    "        img.resize((1, 38, 334, 334))\n",
    "\n",
    "        return img, data, label\n"
   ],
   "metadata": {
    "collapsed": false,
    "pycharm": {
     "name": "#%%\n"
    }
   }
  },
  {
   "cell_type": "code",
   "execution_count": null,
   "outputs": [],
   "source": [
    "from tensorflow.keras import Model\n",
    "from tensorflow.keras.layers import Dense, Flatten, Conv3D\n",
    "\n",
    "\n",
    "class PFPModel(Model):\n",
    "    def __init__(self):\n",
    "        super().__init__()\n",
    "        self.build_model()\n",
    "\n",
    "    def build_model(self):\n",
    "        self.conv1 = tf.keras.Sequential([\n",
    "            Conv3D(filters=200, kernel_size=3, padding='same', activation='relu'),\n",
    "            Conv3D(filters=100, kernel_size=3, padding='same', activation='relu'),\n",
    "            Conv3D(filters=100, kernel_size=3, padding='same', activation='relu'),\n",
    "            Conv3D(filters=50, kernel_size=3, padding='same', activation='relu'),\n",
    "            Flatten(),\n",
    "        ])\n",
    "\n",
    "        self.fc = tf.keras.Sequential([\n",
    "            Dense(500, activation='relu'),\n",
    "            Dense(100, activation='relu'),\n",
    "            Dense(1)\n",
    "        ])\n",
    "\n",
    "    def fit(self, dataset, epoch_num=100):\n",
    "        # compile\n",
    "        self.compile(optimizer=tf.keras.optimizers.Adam(), loss=tf.keras.losses.MSE, metrics=['mse'])\n",
    "\n",
    "        for step, (img, x, y) in enumerate(dataset):\n",
    "            y = tf.cast(y, tf.float32)\n",
    "            with tf.GradientTape() as tape:\n",
    "                output = self.call((img, x))\n",
    "                loss = self.loss(output, y)\n",
    "                gradients = tape.gradient(loss, self.trainable_variables)\n",
    "                self.optimizer.apply_gradients(zip(gradients, self.trainable_variables))\n",
    "\n",
    "            print('STEP:', step, np.mean(loss.numpy()))\n",
    "\n",
    "    def call(self, inputs, *args, **kwargs):\n",
    "        \"\"\"\n",
    "        inputs: {imgs: [], info: []}\n",
    "        \"\"\"\n",
    "\n",
    "        imgs = inputs[0]\n",
    "        info = inputs[1]\n",
    "\n",
    "        imgs = tf.cast(imgs, float)\n",
    "        info = tf.cast(info, float)\n",
    "\n",
    "        conv_out = self.conv1(imgs)\n",
    "\n",
    "        info = tf.concat((conv_out, info), axis=1)\n",
    "        out = self.fc(info)\n",
    "        return out\n",
    "/*"
   ],
   "metadata": {
    "collapsed": false,
    "pycharm": {
     "name": "#%%\n"
    }
   }
  },
  {
   "cell_type": "code",
   "execution_count": null,
   "outputs": [],
   "source": [
    "dataset = Dataset(train_csv)\n",
    "\n",
    "# load model\n",
    "model = PFPModel()\n",
    "model.fit(dataset)"
   ],
   "metadata": {
    "collapsed": false,
    "pycharm": {
     "name": "#%%\n"
    }
   }
  }
 ],
 "metadata": {
  "kernelspec": {
   "display_name": "Python 3",
   "language": "python",
   "name": "python3"
  },
  "language_info": {
   "codemirror_mode": {
    "name": "ipython",
    "version": 2
   },
   "file_extension": ".py",
   "mimetype": "text/x-python",
   "name": "python",
   "nbconvert_exporter": "python",
   "pygments_lexer": "ipython2",
   "version": "2.7.6"
  }
 },
 "nbformat": 4,
 "nbformat_minor": 0
}