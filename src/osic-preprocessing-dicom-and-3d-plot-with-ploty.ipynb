{
 "cells": [
  {
   "cell_type": "markdown",
   "metadata": {},
   "source": [
    "# ABOUT\n",
    "\n",
    "this kernel is to preprocess DICOM images and 3D plot with ploty from the competition [OSIC Pulmonary Fibrosis Progression](https://www.kaggle.com/c/osic-pulmonary-fibrosis-progression).\n",
    "\n",
    "DICON images are cropped, resized, segmentated, converted into Poly3DCollection and then saved into npy files for later use in deep learning.\n",
    "\n",
    "I will keep working on it and improve preprocessings\n",
    "\n",
    "Note that it is highly based on [OSIC |quick EDA + 3D plot with plotly](https://www.kaggle.com/sunpnwt12/osic-quick-eda-3d-plot-with-plotly)"
   ]
  },
  {
   "cell_type": "markdown",
   "metadata": {},
   "source": [
    "# Import"
   ]
  },
  {
   "cell_type": "code",
   "execution_count": 54,
   "metadata": {
    "_kg_hide-input": true,
    "scrolled": true
   },
   "outputs": [],
   "source": [
    "# !conda install -c conda-forge gdcm -y # run this code for the first time\n",
    "import os\n",
    "# import gdcm\n",
    "from collections import defaultdict\n",
    "import numpy as np\n",
    "import pandas as pd\n",
    "\n",
    "import matplotlib\n",
    "import matplotlib.pyplot as plt\n",
    "import seaborn as sns\n",
    "\n",
    "# import plotly.express as px\n",
    "import plotly.graph_objects as go\n",
    "from plotly.subplots import make_subplots\n",
    "from plotly.offline import download_plotlyjs, init_notebook_mode, plot, iplot\n",
    "from plotly import figure_factory as FF\n",
    "\n",
    "import scipy.ndimage\n",
    "from skimage import measure, morphology\n",
    "from mpl_toolkits.mplot3d.art3d import Poly3DCollection\n",
    "\n",
    "import random\n",
    "import pydicom"
   ]
  },
  {
   "cell_type": "markdown",
   "metadata": {},
   "source": [
    "# Read files"
   ]
  },
  {
   "cell_type": "code",
   "execution_count": 55,
   "metadata": {
    "_kg_hide-input": true,
    "scrolled": true
   },
   "outputs": [],
   "source": [
    "# load train and test image\n",
    "\n",
    "DICOM_DIR = '../dataset/train'\n",
    "# DICOM_DIR_TEST = '../data/test'\n",
    "\n",
    "dicom_dict = defaultdict(list)\n",
    "dicom_dict_test = defaultdict(list)\n",
    "\n",
    "default_image_size = 512\n",
    "\n",
    "for dirname in os.listdir(DICOM_DIR):\n",
    "    path = os.path.join(DICOM_DIR, dirname)\n",
    "    dicom_dict[dirname].append(path)\n",
    "    \n",
    "# for dirname in os.listdir(DICOM_DIR_TEST):\n",
    "#     path = os.path.join(DICOM_DIR_TEST, dirname)\n",
    "#     dicom_dict_test[dirname].append(path)\n"
   ]
  },
  {
   "cell_type": "code",
   "execution_count": 56,
   "metadata": {
    "_kg_hide-input": true,
    "scrolled": true
   },
   "outputs": [],
   "source": [
    "# ### load_scan:\n",
    "# since there are a couple of dicom files that don't have 'ImagePositionPatient' attribute so instead,\n",
    "# i will use 'InstanceNumber' attribute for those\n",
    "\n",
    "# ### dicom_file:\n",
    "# 1. take index number of patient which stored in dict_dicom earlier\n",
    "# 2. this might be useful when you need to pick some random patient\n",
    "# 3. It also takes specific patient Id in case you need.\n",
    "# 4. Note that this function is going to read all file in taken path.\n",
    "\n",
    "# ### get_pixels_hu\n",
    "# 1. take dicom file which had called through dicom_file function\n",
    "# 2. It stacks up all the load slices of certain patient\n",
    "# 3. stacked slices will be calculated into Hounsfield Units\n",
    "\n",
    "\n",
    "\n",
    "def load_scan(path):\n",
    "    slices = [pydicom.read_file(path + '/' + s) for s in os.listdir(path)]\n",
    "    length = len(slices)\n",
    "    actualLength = sum([1 if hasattr(x, 'ImagePositionPatient') else 0 for x in slices])\n",
    "    if length == actualLength:\n",
    "        slices.sort(key = lambda x: float(x.ImagePositionPatient[2]))\n",
    "    else:\n",
    "        slices.sort(key = lambda x: float(x.InstanceNumber))\n",
    "        \n",
    "    return slices\n",
    "\n",
    "def get_pixels_hu(slices):\n",
    "    image = np.stack([s.pixel_array for s in slices])\n",
    "    # Convert to int16 (from sometimes int16), \n",
    "    # should be possible as values should always be low enough (<32k)\n",
    "    image = image.astype(np.int16)\n",
    "    # Set outside-of-scan pixels to 0\n",
    "    # The intercept is usually -1024, so air is approximately 0\n",
    "    image[image < -2000] = 0\n",
    "    \n",
    "    # Convert to Hounsfield units (HU)\n",
    "    for slice_number in range(len(slices)):\n",
    "        \n",
    "        intercept = slices[slice_number].RescaleIntercept\n",
    "        slope = slices[slice_number].RescaleSlope\n",
    "        \n",
    "        if slope != 1:\n",
    "            image[slice_number] = slope * image[slice_number].astype(np.float64)\n",
    "            image[slbice_number] = image[slice_number].astype(np.int16)\n",
    "            \n",
    "        image[slice_number] += np.int16(intercept)\n",
    "    \n",
    "    return np.array(image, dtype=np.int16)"
   ]
  },
  {
   "cell_type": "markdown",
   "metadata": {},
   "source": [
    "# 3D Visualization"
   ]
  },
  {
   "cell_type": "markdown",
   "metadata": {},
   "source": [
    "Useful links: \n",
    "\n",
    "* https://www.raddq.com/dicom-processing-segmentation-visualization-in-python/\n",
    "* https://medium.com/@hengloose/a-comprehensive-starter-guide-to-visualizing-and-analyzing-dicom-images-in-python-7a8430fcb7ed"
   ]
  },
  {
   "cell_type": "code",
   "execution_count": 57,
   "metadata": {
    "_kg_hide-input": true,
    "scrolled": true
   },
   "outputs": [],
   "source": [
    "# test = load_scan(dicom_dict['ID00014637202177757139317'][0])\n",
    "\n",
    "# test_hu = get_pixels_hu(test)\n",
    "# # print('Patient {}'.format(test[0].PatientName))\n",
    "# # print('Slices : {}\\nPixels : ({} x {})'.format(test_hu.shape[0], test_hu.shape[1], test_hu.shape[2]))\n",
    "\n",
    "# # plt.figure(figsize=(12, 8))\n",
    "# # ax = sns.distplot(test_hu.flatten(), bins=80, norm_hist=True)\n",
    "# # # ax.set_title('Hounsfield Units of patient {}'.format(test_hu[0].PatientName), fontsize=25)\n",
    "# # plt.show()"
   ]
  },
  {
   "cell_type": "code",
   "execution_count": 58,
   "metadata": {},
   "outputs": [],
   "source": [
    "# ref) https://stackoverflow.com/questions/48121916/numpy-resize-rescale-image\n",
    "# INTER_NEAREST - a nearest-neighbor interpolation\n",
    "# INTER_LINEAR - a bilinear interpolation (used by default)\n",
    "# INTER_AREA - resampling using pixel area relation. It may be a preferred method for image decimation, as it gives moire’-free results. But when the image is zoomed, it is similar to the INTER_NEAREST method.\n",
    "# INTER_CUBIC - a bicubic interpolation over 4x4 pixel neighborhood\n",
    "# INTER_LANCZOS4 - a Lanczos interpolation over 8x8 pixel neighborhood\n",
    "\n",
    "import cv2\n",
    "def resize(slices):\n",
    "    new_slice = []\n",
    "    for slice_number in range(len(slices)):\n",
    "        new_slice.append(cv2.resize(slices[slice_number], dsize=(default_image_size, default_image_size), interpolation=cv2.INTER_AREA))\n",
    "    return np.array(new_slice)"
   ]
  },
  {
   "cell_type": "code",
   "execution_count": 59,
   "metadata": {},
   "outputs": [],
   "source": [
    "# # do crop here\n",
    "def crop(slices):\n",
    "    slice_height = len(slices[0])\n",
    "    slice_width = len(slices[0][0])\n",
    "    diff_height_half = int((slice_height - default_image_size) / 2)\n",
    "    diff_width_half = int((slice_width - default_image_size) / 2)\n",
    "    new_slice = []\n",
    "    for slice_number in range(len(slices)):\n",
    "        new_slice.append(slices[slice_number][diff_width_half: slice_width - diff_width_half, diff_height_half: slice_height - diff_height_half])\n",
    "    return np.array(new_slice)"
   ]
  },
  {
   "cell_type": "code",
   "execution_count": 60,
   "metadata": {
    "_kg_hide-input": true,
    "scrolled": true
   },
   "outputs": [],
   "source": [
    "def resample(image, slice_tickness, x_pixel_spacing, y_pixel_spacing, new_spacing=[1,1,1]):\n",
    "    # Determine current pixel spacing\n",
    "    spacing = np.array([slice_tickness, x_pixel_spacing, y_pixel_spacing], dtype=np.float32)\n",
    "\n",
    "    resize_factor = spacing / new_spacing\n",
    "    new_real_shape = image.shape * resize_factor\n",
    "    new_shape = np.round(new_real_shape)\n",
    "    real_resize_factor = new_shape / image.shape\n",
    "    new_spacing = spacing / real_resize_factor\n",
    "    \n",
    "    image = scipy.ndimage.interpolation.zoom(image, real_resize_factor, mode='nearest')\n",
    "    \n",
    "    return image, new_spacing"
   ]
  },
  {
   "cell_type": "code",
   "execution_count": 61,
   "metadata": {
    "_kg_hide-input": true,
    "scrolled": true
   },
   "outputs": [],
   "source": [
    "def make_mesh(image, threshold):\n",
    "    p = image.transpose(2, 1, 0)\n",
    "    \n",
    "    verts, faces, normals, values = measure.marching_cubes_lewiner(p, threshold)\n",
    "    return verts, faces\n",
    "\n",
    "def static_3d(image, threshold=-300):\n",
    "    \n",
    "    fig = plt.figure(figsize=(10, 10))\n",
    "    ax = fig.add_subplot(111, projection='3d')\n",
    "    \n",
    "    verts, faces = make_mesh(image, threshold)\n",
    "    x, y, z = zip(*verts)\n",
    "    \n",
    "    mesh = Poly3DCollection(verts[faces], alpha=0.1)\n",
    "    face_color = [0.5, 0.5, 1]\n",
    "    mesh.set_facecolor(face_color)\n",
    "    \n",
    "    ax.add_collection3d(mesh)\n",
    "    ax.set_xlim(0, max(x))\n",
    "    ax.set_ylim(0, max(y))\n",
    "    ax.set_zlim(0, max(z))\n",
    "    plt.show()\n",
    "    \n",
    "def interactive_3d(image, threshold=-300):\n",
    "    verts, faces = make_mesh(image, threshold)\n",
    "    x, y, z = zip(*verts)\n",
    "    fig = FF.create_trisurf(x=x,\n",
    "                            y=y,\n",
    "                            z=z,\n",
    "                            plot_edges=False,\n",
    "                            simplices=faces)\n",
    "    iplot(fig)"
   ]
  },
  {
   "cell_type": "code",
   "execution_count": 62,
   "metadata": {
    "scrolled": true
   },
   "outputs": [],
   "source": [
    "# x_size = test[0].Columns\n",
    "# y_size = test[0].Rows\n",
    "# slice_thinkness = test[0].SliceThickness\n",
    "# x_pixel_spacing = test[0].PixelSpacing[0] * (x_size / default_image_size)\n",
    "# y_pixel_spacing = test[0].PixelSpacing[1] * (y_size / default_image_size)\n",
    "# # x_pixel_spacing = test[0].PixelSpacing[0]\n",
    "# # y_pixel_spacing = test[0].PixelSpacing[1]\n",
    "# print(test_hu.shape)\n",
    "# print(x_pixel_spacing, y_pixel_spacing)\n",
    "\n",
    "# # if ratio is not 1:1 then crop\n",
    "# if (x_size != y_size):\n",
    "#     test_hu = crop(test_hu)\n",
    "#     # if cropped, reset pixel spacing with cropped image size because images with margin merely have space\n",
    "#     # outter size of image so pixel spacing size shouldn't be affected by those space\n",
    "#     x_pixel_spacing = test[0].PixelSpacing[0] * (test_hu.shape[2] / default_image_size)\n",
    "#     y_pixel_spacing = test[0].PixelSpacing[1] * (test_hu.shape[1] / default_image_size)\n",
    "    \n",
    "# # if size is not 512 then resize\n",
    "# if (x_size != default_image_size or y_size != default_image_size):\n",
    "#     test_hu = resize(test_hu)\n",
    "\n",
    "# # resample test\n",
    "# resampled_test_hu, spacing = resample(test_hu, slice_thinkness, x_pixel_spacing, y_pixel_spacing)\n",
    "# print(resampled_test_hu.shape)\n"
   ]
  },
  {
   "cell_type": "code",
   "execution_count": 63,
   "metadata": {},
   "outputs": [],
   "source": [
    "# from scipy.ndimage import zoom\n",
    "# z_med_size = 135\n",
    "# y_med_size = 180\n",
    "# x_med_size = 180\n",
    "# shape = resampled_test_hu.shape\n",
    "# print(z_med_size/shape[0], y_med_size/shape[1])\n",
    "# resampled_test_hu = zoom(resampled_test_hu, (z_med_size/shape[0], y_med_size/shape[1], x_med_size/shape[2]))"
   ]
  },
  {
   "cell_type": "markdown",
   "metadata": {},
   "source": [
    "The ratio of images that are not 1:1 are the ones with margins outside of images. crop those margins and resize to 512 resolution\n",
    "\n",
    "As total resolution gets smaller, I muliplied pixel spacings by the ration too ( I guess as total number of pixel gets smaller, single pixel covers larger space thus bigger millimetres ) "
   ]
  },
  {
   "cell_type": "code",
   "execution_count": 64,
   "metadata": {},
   "outputs": [],
   "source": [
    "# static_3d(resampled_test_hu)"
   ]
  },
  {
   "cell_type": "code",
   "execution_count": 65,
   "metadata": {
    "_kg_hide-input": true,
    "scrolled": true
   },
   "outputs": [],
   "source": [
    "def largest_label_volume(im, bg=-1):\n",
    "    vals, counts = np.unique(im, return_counts=True)\n",
    "\n",
    "    counts = counts[vals != bg]\n",
    "    vals = vals[vals != bg]\n",
    "\n",
    "    if len(counts) > 0:\n",
    "        return vals[np.argmax(counts)]\n",
    "    else:\n",
    "        return None\n",
    "\n",
    "def segment_lung_mask(image, fill_lung_structures=True):\n",
    "    # not actually binary, but 1 and 2. \n",
    "    # 0 is treated as background, which we do not want\n",
    "    binary_image = np.array(image > -320, dtype=np.int8)+1\n",
    "    labels = measure.label(binary_image)\n",
    "    \n",
    "    # Pick the pixel in the very corner to determine which label is air.\n",
    "    #   Improvement: Pick multiple background labels from around the patient\n",
    "    #   More resistant to \"trays\" on which the patient lays cutting the air \n",
    "    #   around the person in half\n",
    "    z, y, x = labels.shape\n",
    "    for slice_number in range(len(image)):\n",
    "        #Fill the air around the person\n",
    "        binary_image[slice_number][labels[slice_number, 0, 0] == labels[slice_number]] = 2\n",
    "        binary_image[slice_number][labels[slice_number, 0, x - 1] == labels[slice_number]] = 2\n",
    "        binary_image[slice_number][labels[slice_number, y - 1, 0] == labels[slice_number]] = 2\n",
    "        binary_image[slice_number][labels[slice_number, y - 1, x - 1] == labels[slice_number]] = 2\n",
    "        binary_image[slice_number][labels[slice_number, 0, int((x - 1) / 2)] == labels[slice_number]] = 2\n",
    "        binary_image[slice_number][labels[slice_number, y - 1, int((x - 1) / 2)] == labels[slice_number]] = 2\n",
    "    \n",
    "    # Method of filling the lung structures (that is superior to something like \n",
    "    # morphological closing)\n",
    "    if fill_lung_structures:\n",
    "        # For every slice we determine the largest solid structure\n",
    "        for i, axial_slice in enumerate(binary_image):\n",
    "            axial_slice = axial_slice - 1\n",
    "            labeling = measure.label(axial_slice)\n",
    "            l_max = largest_label_volume(labeling, bg=0)\n",
    "            \n",
    "            if l_max is not None: #This slice contains some lung\n",
    "                binary_image[i][labeling != l_max] = 1\n",
    "    return binary_image"
   ]
  },
  {
   "cell_type": "code",
   "execution_count": 66,
   "metadata": {
    "pycharm": {
     "name": "#%%₩\n"
    },
    "scrolled": true
   },
   "outputs": [],
   "source": [
    "# segmented_lungs = segment_lung_mask(resampled_test_hu, False)\n",
    "# segmented_lungs_fill = segment_lung_mask(resampled_test_hu, True)"
   ]
  },
  {
   "cell_type": "code",
   "execution_count": 67,
   "metadata": {
    "pycharm": {
     "name": "#%%\n"
    }
   },
   "outputs": [],
   "source": [
    "# print(resampled_test_hu.shape, np.min(resampled_test_hu), np.max(resampled_test_hu))\n",
    "# print(segmented_lungs.shape, np.min(segmented_lungs), np.max(segmented_lungs))\n",
    "# print(segmented_lungs_fill.shape, np.min(segmented_lungs_fill), np.max(segmented_lungs_fill))\n",
    "# print((segmented_lungs_fill - segmented_lungs).shape, np.min((segmented_lungs_fill - segmented_lungs)), np.max((segmented_lungs_fill - segmented_lungs)))"
   ]
  },
  {
   "cell_type": "code",
   "execution_count": 68,
   "metadata": {},
   "outputs": [],
   "source": [
    "# lungs = segmented_lungs_fill - segmented_lungs\n",
    "# resampled_test_hu_poss = resampled_test_hu + abs(np.min(resampled_test_hu)) # 전체 양수 처리, 0 = 공기 또는 바깥쪽"
   ]
  },
  {
   "cell_type": "code",
   "execution_count": 69,
   "metadata": {
    "pycharm": {
     "name": "#%%\n"
    }
   },
   "outputs": [],
   "source": [
    "# for i, each_slice in enumerate(lungs):\n",
    "#     for j, y in enumerate(each_slice):\n",
    "#         for k, x in enumerate(y):\n",
    "#             if lungs[i][j][k] == 0:\n",
    "#                 resampled_test_hu_poss[i][j][k] = 0"
   ]
  },
  {
   "cell_type": "code",
   "execution_count": 70,
   "metadata": {
    "pycharm": {
     "name": "#%%\n"
    }
   },
   "outputs": [],
   "source": [
    "# min_val, max_val = np.min(resampled_test_hu_poss), np.max(resampled_test_hu_poss)\n",
    "# resampled_test_hu_poss_min_max = (resampled_test_hu_poss - min_val) / (max_val - min_val)"
   ]
  },
  {
   "cell_type": "markdown",
   "metadata": {},
   "source": [
    "## Segmented lungs"
   ]
  },
  {
   "cell_type": "code",
   "execution_count": 71,
   "metadata": {
    "pycharm": {
     "name": "#%%\n"
    }
   },
   "outputs": [],
   "source": [
    "# static_3d(segmented_lungs, 1.5)"
   ]
  },
  {
   "cell_type": "markdown",
   "metadata": {
    "pycharm": {
     "name": "#%% md\n"
    }
   },
   "source": [
    "## Segmented lungs filled"
   ]
  },
  {
   "cell_type": "code",
   "execution_count": 72,
   "metadata": {},
   "outputs": [],
   "source": [
    "# static_3d(segmented_lungs_fill, 1.5)"
   ]
  },
  {
   "cell_type": "markdown",
   "metadata": {},
   "source": [
    "## Difference between both"
   ]
  },
  {
   "cell_type": "code",
   "execution_count": 73,
   "metadata": {
    "pycharm": {
     "name": "#%%\n"
    }
   },
   "outputs": [],
   "source": [
    "# static_3d(resampled_test_hu_poss_min_max, 0)"
   ]
  },
  {
   "cell_type": "code",
   "execution_count": 74,
   "metadata": {
    "pycharm": {
     "name": "#%%\n"
    }
   },
   "outputs": [],
   "source": [
    "# interactive_3d(resampled_test_hu_poss_min_max, 0)"
   ]
  },
  {
   "cell_type": "markdown",
   "metadata": {},
   "source": [
    " # Save to npy\n"
   ]
  },
  {
   "cell_type": "markdown",
   "metadata": {},
   "source": [
    "the codes below is to save segmented lung data into npy files."
   ]
  },
  {
   "cell_type": "code",
   "execution_count": 75,
   "metadata": {
    "pycharm": {
     "name": "#%%\n"
    }
   },
   "outputs": [],
   "source": [
    "# create directories\n",
    "# os.removedirs(\"/kaggle/working/train\")\n",
    "# os.removedirs(\"/kaggle/working/test\")\n",
    "# os.makedirs('train')\n",
    "# os.makedirs('test')"
   ]
  },
  {
   "cell_type": "code",
   "execution_count": 83,
   "metadata": {
    "pycharm": {
     "name": "#%%\n"
    }
   },
   "outputs": [
    {
     "name": "stdout",
     "output_type": "stream",
     "text": [
      "ID00296637202279895784347 ['../dataset/train/ID00296637202279895784347']\n",
      "before resize (31, 366, 366)\n",
      "after resize (68, 90, 90)\n",
      "[0.         0.         0.         0.         0.         0.\n",
      " 0.         0.         0.         0.         0.         0.\n",
      " 0.         0.         0.         0.         0.         0.\n",
      " 0.         0.         0.         0.         0.         0.\n",
      " 0.         0.         0.63453578 0.         0.         0.\n",
      " 0.         0.         0.         0.         0.         0.\n",
      " 0.         0.         0.         0.         0.         0.\n",
      " 0.         0.         0.         0.         0.         0.\n",
      " 0.         0.         0.         0.         0.         0.\n",
      " 0.         0.         0.         0.         0.         0.\n",
      " 0.         0.60496747 0.         0.74157303 0.         0.59846245\n",
      " 0.         0.         0.         0.         0.         0.\n",
      " 0.         0.         0.         0.         0.         0.\n",
      " 0.         0.         0.         0.         0.         0.\n",
      " 0.         0.         0.         0.         0.         0.        ]\n",
      "ID00032637202181710233084 ['../dataset/train/ID00032637202181710233084']\n"
     ]
    },
    {
     "ename": "KeyboardInterrupt",
     "evalue": "",
     "output_type": "error",
     "traceback": [
      "\u001b[0;31m---------------------------------------------------------------------------\u001b[0m",
      "\u001b[0;31mKeyboardInterrupt\u001b[0m                         Traceback (most recent call last)",
      "\u001b[0;32m<ipython-input-83-d104562e93df>\u001b[0m in \u001b[0;36m<module>\u001b[0;34m\u001b[0m\n\u001b[1;32m     37\u001b[0m \u001b[0;34m\u001b[0m\u001b[0m\n\u001b[1;32m     38\u001b[0m         \u001b[0;31m# # resample test\u001b[0m\u001b[0;34m\u001b[0m\u001b[0;34m\u001b[0m\u001b[0;34m\u001b[0m\u001b[0m\n\u001b[0;32m---> 39\u001b[0;31m         \u001b[0mresampled_scan_hu\u001b[0m\u001b[0;34m,\u001b[0m \u001b[0mspacing\u001b[0m \u001b[0;34m=\u001b[0m \u001b[0mresample\u001b[0m\u001b[0;34m(\u001b[0m\u001b[0mscan_hu\u001b[0m\u001b[0;34m,\u001b[0m \u001b[0mslice_thinkness\u001b[0m\u001b[0;34m,\u001b[0m \u001b[0mx_pixel_spacing\u001b[0m\u001b[0;34m,\u001b[0m \u001b[0my_pixel_spacing\u001b[0m\u001b[0;34m)\u001b[0m\u001b[0;34m\u001b[0m\u001b[0;34m\u001b[0m\u001b[0m\n\u001b[0m\u001b[1;32m     40\u001b[0m         \u001b[0mprint\u001b[0m\u001b[0;34m(\u001b[0m\u001b[0;34m'before resize'\u001b[0m\u001b[0;34m,\u001b[0m \u001b[0mresampled_scan_hu\u001b[0m\u001b[0;34m.\u001b[0m\u001b[0mshape\u001b[0m\u001b[0;34m)\u001b[0m\u001b[0;34m\u001b[0m\u001b[0;34m\u001b[0m\u001b[0m\n\u001b[1;32m     41\u001b[0m \u001b[0;34m\u001b[0m\u001b[0m\n",
      "\u001b[0;32m<ipython-input-60-ac8b31abfcd0>\u001b[0m in \u001b[0;36mresample\u001b[0;34m(image, slice_tickness, x_pixel_spacing, y_pixel_spacing, new_spacing)\u001b[0m\n\u001b[1;32m      9\u001b[0m     \u001b[0mnew_spacing\u001b[0m \u001b[0;34m=\u001b[0m \u001b[0mspacing\u001b[0m \u001b[0;34m/\u001b[0m \u001b[0mreal_resize_factor\u001b[0m\u001b[0;34m\u001b[0m\u001b[0;34m\u001b[0m\u001b[0m\n\u001b[1;32m     10\u001b[0m \u001b[0;34m\u001b[0m\u001b[0m\n\u001b[0;32m---> 11\u001b[0;31m     \u001b[0mimage\u001b[0m \u001b[0;34m=\u001b[0m \u001b[0mscipy\u001b[0m\u001b[0;34m.\u001b[0m\u001b[0mndimage\u001b[0m\u001b[0;34m.\u001b[0m\u001b[0minterpolation\u001b[0m\u001b[0;34m.\u001b[0m\u001b[0mzoom\u001b[0m\u001b[0;34m(\u001b[0m\u001b[0mimage\u001b[0m\u001b[0;34m,\u001b[0m \u001b[0mreal_resize_factor\u001b[0m\u001b[0;34m,\u001b[0m \u001b[0mmode\u001b[0m\u001b[0;34m=\u001b[0m\u001b[0;34m'nearest'\u001b[0m\u001b[0;34m)\u001b[0m\u001b[0;34m\u001b[0m\u001b[0;34m\u001b[0m\u001b[0m\n\u001b[0m\u001b[1;32m     12\u001b[0m \u001b[0;34m\u001b[0m\u001b[0m\n\u001b[1;32m     13\u001b[0m     \u001b[0;32mreturn\u001b[0m \u001b[0mimage\u001b[0m\u001b[0;34m,\u001b[0m \u001b[0mnew_spacing\u001b[0m\u001b[0;34m\u001b[0m\u001b[0;34m\u001b[0m\u001b[0m\n",
      "\u001b[0;32m~/Documents/BitBucket/Pulmonary-Fibrosis/venv/lib/python3.8/site-packages/scipy/ndimage/interpolation.py\u001b[0m in \u001b[0;36mzoom\u001b[0;34m(input, zoom, output, order, mode, cval, prefilter)\u001b[0m\n\u001b[1;32m    596\u001b[0m     \u001b[0mmode\u001b[0m \u001b[0;34m=\u001b[0m \u001b[0m_ni_support\u001b[0m\u001b[0;34m.\u001b[0m\u001b[0m_extend_mode_to_code\u001b[0m\u001b[0;34m(\u001b[0m\u001b[0mmode\u001b[0m\u001b[0;34m)\u001b[0m\u001b[0;34m\u001b[0m\u001b[0;34m\u001b[0m\u001b[0m\n\u001b[1;32m    597\u001b[0m     \u001b[0;32mif\u001b[0m \u001b[0mprefilter\u001b[0m \u001b[0;32mand\u001b[0m \u001b[0morder\u001b[0m \u001b[0;34m>\u001b[0m \u001b[0;36m1\u001b[0m\u001b[0;34m:\u001b[0m\u001b[0;34m\u001b[0m\u001b[0;34m\u001b[0m\u001b[0m\n\u001b[0;32m--> 598\u001b[0;31m         \u001b[0mfiltered\u001b[0m \u001b[0;34m=\u001b[0m \u001b[0mspline_filter\u001b[0m\u001b[0;34m(\u001b[0m\u001b[0minput\u001b[0m\u001b[0;34m,\u001b[0m \u001b[0morder\u001b[0m\u001b[0;34m,\u001b[0m \u001b[0moutput\u001b[0m\u001b[0;34m=\u001b[0m\u001b[0mnumpy\u001b[0m\u001b[0;34m.\u001b[0m\u001b[0mfloat64\u001b[0m\u001b[0;34m)\u001b[0m\u001b[0;34m\u001b[0m\u001b[0;34m\u001b[0m\u001b[0m\n\u001b[0m\u001b[1;32m    599\u001b[0m     \u001b[0;32melse\u001b[0m\u001b[0;34m:\u001b[0m\u001b[0;34m\u001b[0m\u001b[0;34m\u001b[0m\u001b[0m\n\u001b[1;32m    600\u001b[0m         \u001b[0mfiltered\u001b[0m \u001b[0;34m=\u001b[0m \u001b[0minput\u001b[0m\u001b[0;34m\u001b[0m\u001b[0;34m\u001b[0m\u001b[0m\n",
      "\u001b[0;32m~/Documents/BitBucket/Pulmonary-Fibrosis/venv/lib/python3.8/site-packages/scipy/ndimage/interpolation.py\u001b[0m in \u001b[0;36mspline_filter\u001b[0;34m(input, order, output, mode)\u001b[0m\n\u001b[1;32m    133\u001b[0m     \u001b[0;32mif\u001b[0m \u001b[0morder\u001b[0m \u001b[0;32mnot\u001b[0m \u001b[0;32min\u001b[0m \u001b[0;34m[\u001b[0m\u001b[0;36m0\u001b[0m\u001b[0;34m,\u001b[0m \u001b[0;36m1\u001b[0m\u001b[0;34m]\u001b[0m \u001b[0;32mand\u001b[0m \u001b[0minput\u001b[0m\u001b[0;34m.\u001b[0m\u001b[0mndim\u001b[0m \u001b[0;34m>\u001b[0m \u001b[0;36m0\u001b[0m\u001b[0;34m:\u001b[0m\u001b[0;34m\u001b[0m\u001b[0;34m\u001b[0m\u001b[0m\n\u001b[1;32m    134\u001b[0m         \u001b[0;32mfor\u001b[0m \u001b[0maxis\u001b[0m \u001b[0;32min\u001b[0m \u001b[0mrange\u001b[0m\u001b[0;34m(\u001b[0m\u001b[0minput\u001b[0m\u001b[0;34m.\u001b[0m\u001b[0mndim\u001b[0m\u001b[0;34m)\u001b[0m\u001b[0;34m:\u001b[0m\u001b[0;34m\u001b[0m\u001b[0;34m\u001b[0m\u001b[0m\n\u001b[0;32m--> 135\u001b[0;31m             \u001b[0mspline_filter1d\u001b[0m\u001b[0;34m(\u001b[0m\u001b[0minput\u001b[0m\u001b[0;34m,\u001b[0m \u001b[0morder\u001b[0m\u001b[0;34m,\u001b[0m \u001b[0maxis\u001b[0m\u001b[0;34m,\u001b[0m \u001b[0moutput\u001b[0m\u001b[0;34m=\u001b[0m\u001b[0moutput\u001b[0m\u001b[0;34m,\u001b[0m \u001b[0mmode\u001b[0m\u001b[0;34m=\u001b[0m\u001b[0mmode\u001b[0m\u001b[0;34m)\u001b[0m\u001b[0;34m\u001b[0m\u001b[0;34m\u001b[0m\u001b[0m\n\u001b[0m\u001b[1;32m    136\u001b[0m             \u001b[0minput\u001b[0m \u001b[0;34m=\u001b[0m \u001b[0moutput\u001b[0m\u001b[0;34m\u001b[0m\u001b[0;34m\u001b[0m\u001b[0m\n\u001b[1;32m    137\u001b[0m     \u001b[0;32melse\u001b[0m\u001b[0;34m:\u001b[0m\u001b[0;34m\u001b[0m\u001b[0;34m\u001b[0m\u001b[0m\n",
      "\u001b[0;32m~/Documents/BitBucket/Pulmonary-Fibrosis/venv/lib/python3.8/site-packages/scipy/ndimage/interpolation.py\u001b[0m in \u001b[0;36mspline_filter1d\u001b[0;34m(input, order, axis, output, mode)\u001b[0m\n\u001b[1;32m    102\u001b[0m         \u001b[0mmode\u001b[0m \u001b[0;34m=\u001b[0m \u001b[0m_ni_support\u001b[0m\u001b[0;34m.\u001b[0m\u001b[0m_extend_mode_to_code\u001b[0m\u001b[0;34m(\u001b[0m\u001b[0mmode\u001b[0m\u001b[0;34m)\u001b[0m\u001b[0;34m\u001b[0m\u001b[0;34m\u001b[0m\u001b[0m\n\u001b[1;32m    103\u001b[0m         \u001b[0maxis\u001b[0m \u001b[0;34m=\u001b[0m \u001b[0m_ni_support\u001b[0m\u001b[0;34m.\u001b[0m\u001b[0m_check_axis\u001b[0m\u001b[0;34m(\u001b[0m\u001b[0maxis\u001b[0m\u001b[0;34m,\u001b[0m \u001b[0minput\u001b[0m\u001b[0;34m.\u001b[0m\u001b[0mndim\u001b[0m\u001b[0;34m)\u001b[0m\u001b[0;34m\u001b[0m\u001b[0;34m\u001b[0m\u001b[0m\n\u001b[0;32m--> 104\u001b[0;31m         \u001b[0m_nd_image\u001b[0m\u001b[0;34m.\u001b[0m\u001b[0mspline_filter1d\u001b[0m\u001b[0;34m(\u001b[0m\u001b[0minput\u001b[0m\u001b[0;34m,\u001b[0m \u001b[0morder\u001b[0m\u001b[0;34m,\u001b[0m \u001b[0maxis\u001b[0m\u001b[0;34m,\u001b[0m \u001b[0moutput\u001b[0m\u001b[0;34m,\u001b[0m \u001b[0mmode\u001b[0m\u001b[0;34m)\u001b[0m\u001b[0;34m\u001b[0m\u001b[0;34m\u001b[0m\u001b[0m\n\u001b[0m\u001b[1;32m    105\u001b[0m     \u001b[0;32mreturn\u001b[0m \u001b[0moutput\u001b[0m\u001b[0;34m\u001b[0m\u001b[0;34m\u001b[0m\u001b[0m\n\u001b[1;32m    106\u001b[0m \u001b[0;34m\u001b[0m\u001b[0m\n",
      "\u001b[0;31mKeyboardInterrupt\u001b[0m: "
     ]
    }
   ],
   "source": [
    "# load all dicom\n",
    "# import gdcm\n",
    "from scipy.ndimage import zoom\n",
    "\n",
    "PATH = '../dataset/output/train'\n",
    "# PATH_TEST = '../dataset/output/test'\n",
    "\n",
    "z_med_size = 68\n",
    "y_med_size = 90\n",
    "x_med_size = 90\n",
    "\n",
    "# create train data npy\n",
    "for k, v in dicom_dict.items():\n",
    "    print(k ,v)\n",
    "    if (k != 'ID00011637202177653955184' and k != 'ID00052637202186188008618'):\n",
    "        \n",
    "        scan = load_scan(v[0])\n",
    "        scan_hu = get_pixels_hu(scan)\n",
    "\n",
    "        x_size = scan[0].Columns\n",
    "        y_size = scan[0].Rows\n",
    "        slice_thinkness = scan[0].SliceThickness\n",
    "        x_pixel_spacing = scan[0].PixelSpacing[0] * (x_size / default_image_size)\n",
    "        y_pixel_spacing = scan[0].PixelSpacing[1] * (y_size / default_image_size)\n",
    "\n",
    "        # # if ratio is not 1:1 then crop\n",
    "        if (x_size != y_size):\n",
    "            scan_hu = crop(scan_hu)\n",
    "            # if cropped, reset pixel spacing with cropped image size because images with margin merely have space\n",
    "            # outter side of image so pixel spacing size shouldn't be affected by those space\n",
    "            x_pixel_spacing = scan[0].PixelSpacing[0] * (scan_hu.shape[2] / default_image_size)\n",
    "            y_pixel_spacing = scan[0].PixelSpacing[1] * (scan_hu.shape[1] / default_image_size)\n",
    "\n",
    "        # # if size is not 512 then resize\n",
    "        if (x_size != default_image_size or y_size != default_image_size):\n",
    "            scan_hu = resize(scan_hu)\n",
    "\n",
    "        # # resample test\n",
    "        resampled_scan_hu, spacing = resample(scan_hu, slice_thinkness, x_pixel_spacing, y_pixel_spacing)\n",
    "        print('before resize', resampled_scan_hu.shape)\n",
    "\n",
    "        z_ratio = z_med_size / resampled_scan_hu.shape[0]\n",
    "        y_ratio = y_med_size / resampled_scan_hu.shape[1]\n",
    "        x_ratio = x_med_size / resampled_scan_hu.shape[2]\n",
    "        resampled_scan_hu = zoom(resampled_scan_hu, (z_ratio, y_ratio, x_ratio))\n",
    "        print('after resize', resampled_scan_hu.shape)\n",
    "        \n",
    "        segmented_lungs = segment_lung_mask(resampled_scan_hu, False)\n",
    "        segmented_lungs_fill = segment_lung_mask(resampled_scan_hu, True)\n",
    "        \n",
    "        lungs = segmented_lungs_fill - segmented_lungs\n",
    "        resampled_scan_hu_poss = resampled_scan_hu + abs(np.min(resampled_scan_hu)) # 전체 0이상 양수 처리\n",
    "\n",
    "        for i, each_slice in enumerate(lungs): # 바깥부분 0 처리\n",
    "            for j, y in enumerate(each_slice):\n",
    "                for k, x in enumerate(y):\n",
    "                    if lungs[i][j][k] == 0:\n",
    "                        resampled_scan_hu_poss[i][j][k] = 0\n",
    "\n",
    "        # 폐 전체 min-max 처리\n",
    "        min_val, max_val = np.min(resampled_scan_hu_poss), np.max(resampled_scan_hu_poss)\n",
    "        resampled_scan_hu_poss_min_max = (resampled_scan_hu_poss - min_val) / (max_val - min_val)\n",
    "\n",
    "        np.save(f'{PATH}/{k}' , resampled_scan_hu_poss_min_max)"
   ]
  },
  {
   "cell_type": "code",
   "execution_count": null,
   "metadata": {},
   "outputs": [],
   "source": []
  }
 ],
 "metadata": {
  "kernelspec": {
   "display_name": "Python 3",
   "language": "python",
   "name": "python3"
  },
  "language_info": {
   "codemirror_mode": {
    "name": "ipython",
    "version": 3
   },
   "file_extension": ".py",
   "mimetype": "text/x-python",
   "name": "python",
   "nbconvert_exporter": "python",
   "pygments_lexer": "ipython3",
   "version": "3.8.5"
  }
 },
 "nbformat": 4,
 "nbformat_minor": 4
}
